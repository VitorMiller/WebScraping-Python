{
 "cells": [
  {
   "cell_type": "code",
   "execution_count": null,
   "metadata": {},
   "outputs": [],
   "source": [
    "!pip install openpyxl\n",
    "!pip install selenium\n",
    "!pip install xlrd"
   ]
  },
  {
   "cell_type": "code",
   "execution_count": 7,
   "metadata": {},
   "outputs": [],
   "source": [
    "import time\n",
    "from selenium import webdriver\n",
    "from selenium.webdriver.common.keys import Keys\n",
    "from selenium.webdriver.common.by import By\n",
    "from selenium.webdriver.support.wait import WebDriverWait\n",
    "from selenium.webdriver.support.ui import Select\n",
    "from selenium.webdriver.support import expected_conditions as EC\n",
    "from selenium.webdriver.common.action_chains import ActionChains\n"
   ]
  },
  {
   "cell_type": "code",
   "execution_count": 8,
   "metadata": {},
   "outputs": [],
   "source": [
    "def obter_elemento(driver, xpath):\n",
    "    try:\n",
    "        elem = WebDriverWait(driver, 50).until(EC.presence_of_element_located((By.XPATH, xpath)))\n",
    "        elem = driver.find_element(By.XPATH, xpath)\n",
    "        return elem\n",
    "    except:\n",
    "        return False"
   ]
  },
  {
   "cell_type": "code",
   "execution_count": 3,
   "metadata": {},
   "outputs": [],
   "source": [
    "def click(driver, xpath):\n",
    "    elem = driver.find_element(By.XPATH, xpath)\n",
    "    elem.click()"
   ]
  },
  {
   "cell_type": "code",
   "execution_count": 9,
   "metadata": {},
   "outputs": [],
   "source": [
    "def obter_valor(driver, xpath):\n",
    "    elem = driver.find_element(By.XPATH, xpath)\n",
    "    return elem.get_attribute(\"value\")"
   ]
  },
  {
   "cell_type": "code",
   "execution_count": 11,
   "metadata": {},
   "outputs": [
    {
     "name": "stdout",
     "output_type": "stream",
     "text": [
      "110\n"
     ]
    }
   ],
   "source": [
    "driver = webdriver.Chrome()\n",
    "driver.get(\"https://inova.coop.br/radar#cases\")\n",
    "try:\n",
    "    #botão de aceitar cookies\n",
    "    WebDriverWait(driver, 20).until(EC.element_to_be_clickable((By.XPATH, \"//*[@id='adopt-accept-all-button']\"))).click()\n",
    "finally:\n",
    "    #botão de fechar barra roxa inferior\n",
    "    click(driver, \"/html/body/app-root/mat-drawer-container/mat-drawer-content/div/div/div/app-innovation-radar-page/app-send-case/div/div[2]/button\")\n",
    "\n",
    "    #enquanto acha a barra 'ver mais'...\n",
    "    while obter_elemento(driver, \"/html/body/app-root/mat-drawer-container/mat-drawer-content/div/div/div/app-innovation-radar-page/app-container/div/div/app-paginated-content/div/content-page/app-innovation-radar-list/div[2]/app-show-more/div\"):\n",
    "        #espera \"ver mais\" ser clicável\n",
    "        WebDriverWait(driver, 20).until(EC.element_to_be_clickable((By.XPATH, \"/html/body/app-root/mat-drawer-container/mat-drawer-content/div/div/div/app-innovation-radar-page/app-container/div/div/app-paginated-content/div/content-page/app-innovation-radar-list/div[2]/app-show-more/div\")))\n",
    "        #clica em ver mais\n",
    "        click(driver, \"/html/body/app-root/mat-drawer-container/mat-drawer-content/div/div/div/app-innovation-radar-page/app-container/div/div/app-paginated-content/div/content-page/app-innovation-radar-list/div[2]/app-show-more/div\")\n",
    "\n",
    "#armazenar primeira aba\n",
    "original_window = driver.current_window_handle\n",
    " \n",
    "\n",
    "#mapeando todos botões \"veja os detalhes\"\n",
    "buttons =  driver.find_elements(By.CSS_SELECTOR, \"[_nghost-serverApp-c111]   span[_ngcontent-serverApp-c111]   button[_ngcontent-serverApp-c111]\")\n",
    "print(len(buttons))\n",
    "\n",
    "\n",
    "for button in buttons:\n",
    "#abre nova aba\n",
    "    ActionChains(driver)\\\n",
    "            .key_down(Keys.LEFT_CONTROL)\\\n",
    "            .click(button)\\\n",
    "            .key_up(Keys.LEFT_CONTROL)\\\n",
    "            .perform()\n",
    "\n",
    "    wait = WebDriverWait(driver, 10)\n",
    "    wait.until(EC.number_of_windows_to_be(2))\n",
    "\n",
    "#troca para nova aba\n",
    "    for window_handle in driver.window_handles:\n",
    "            if window_handle != original_window:\n",
    "                driver.switch_to.window(window_handle)\n",
    "                break\n",
    "\n",
    "    #pegar cabeçalho\n",
    "    cabecalho = obter_elemento(driver, \"/html/body/app-root/mat-drawer-container/mat-drawer-content/div/div/div/app-innovation-radar-details-page/app-container/div/app-content-area/div[1]/article\" )\n",
    "    #pegar conteúdo Texto\n",
    "    conteudo = obter_elemento(driver,\"/html/body/app-root/mat-drawer-container/mat-drawer-content/div/div/div/app-innovation-radar-details-page/app-container/div/app-content-area/div[1]/app-content-editor\")\n",
    "    #pegar contato\n",
    "    contato = obter_elemento(driver, \"/html/body/app-root/mat-drawer-container/mat-drawer-content/div/div/div/app-innovation-radar-details-page/app-container/div/app-content-area/div[1]/div[3]\")\n",
    "    titulo = obter_elemento(driver, \"/html/body/app-root/mat-drawer-container/mat-drawer-content/div/div/div/app-innovation-radar-details-page/app-container/div/app-content-area/div[1]/article/section[1]/app-title-h1/h1\")\n",
    "\n",
    "    #tratando título das matérias que possuem / no nome \n",
    "    nomearquivo = (f\"{titulo.text.replace('/', '_')}.txt\")\n",
    "    #criando arquivo\n",
    "    f = open(nomearquivo, \"x\")\n",
    "    f.write(cabecalho.text+\"\\n\")\n",
    "    f.write(conteudo.text+\"\\n\")\n",
    "    f.write(contato.text+\"\\n\")\n",
    "    f.close()\n",
    "\n",
    "    #fechando janela\n",
    "    driver.close()\n",
    "\n",
    "    #voltando para a janela original\n",
    "    driver.switch_to.window(original_window)\n"
   ]
  }
 ],
 "metadata": {
  "kernelspec": {
   "display_name": "Python 3",
   "language": "python",
   "name": "python3"
  },
  "language_info": {
   "codemirror_mode": {
    "name": "ipython",
    "version": 3
   },
   "file_extension": ".py",
   "mimetype": "text/x-python",
   "name": "python",
   "nbconvert_exporter": "python",
   "pygments_lexer": "ipython3",
   "version": "3.10.12"
  }
 },
 "nbformat": 4,
 "nbformat_minor": 2
}
